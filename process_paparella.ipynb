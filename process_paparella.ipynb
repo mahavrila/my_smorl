{
 "cells": [
  {
   "metadata": {},
   "cell_type": "markdown",
   "source": [
    "## Paparella Results\n",
    "\n",
    "#### TLDR: clone this repo and use runs directory as tensorboard logdir to see Paparellas results.\n",
    "\n",
    "Paparella et. al. published results of their models only for  \n",
    "certain time-points and each model was evaluated in different  \n",
    "time point selected based on ndcg@10 value. However, vanilla models  \n",
    "hit their highest accuracy early on in training (while diversity and  \n",
    "novelty are still growing), while SMORL models hit their highest  \n",
    "accuracy much later in training process (where diversity and novelty  \n",
    "reach their maximums). This cause that diversity, novelty and likely  \n",
    "also repetitiveness of vanilla models may be underestimated.\n",
    "\n",
    "#### Published and \"Published\" data \n",
    "As mentioned above, Paprella published metrics only for certain time points of training  \n",
    "process in the paper (i.e. in tables and graphs). However, authors also published code  \n",
    "with various data files including text files that contains almost time series of metrics  \n",
    "from training of model. I wrote almost as it is plain text that needs to be further processed  \n",
    "to get time series. \n",
    "\n",
    "This notebook iterates through .txt output files, processes them and provide time series of  \n",
    "accuracy, diversity, novelty and repetitiveness metrices as well as loss in tensorboard format."
   ],
   "id": "ec12b144e72d8ad"
  },
  {
   "metadata": {
    "ExecuteTime": {
     "end_time": "2025-05-07T09:30:25.361105Z",
     "start_time": "2025-05-07T09:30:25.355673Z"
    }
   },
   "cell_type": "code",
   "source": [
    "import re\n",
    "from torch.utils.tensorboard import SummaryWriter\n",
    "\n",
    "models = ['sasrec', 'caser', 'gru']\n",
    "combs = [[1,1,1],[1,1,0],[1,0,1],[0,1,1],[0,1,0],[0,0,1]]\n",
    "model_stop = [\"main\", \"target\"]\n",
    "datasets = [\"rc15_results\", \"retail_rocket_results\"]\n",
    "# MODIFY PATH TO div4rec dir of Paparellas\n",
    "div4rec_path = \"/home/marek/Kinit/MORSs/SMORL/div4rec\"\n",
    "results_dir = \"runs/Paparella_2\""
   ],
   "id": "dcfa168d8575017e",
   "outputs": [],
   "execution_count": 18
  },
  {
   "metadata": {
    "ExecuteTime": {
     "end_time": "2025-05-07T09:30:27.376307Z",
     "start_time": "2025-05-07T09:30:27.372784Z"
    }
   },
   "cell_type": "code",
   "source": [
    "patterns = {\n",
    "    # Matches: cumulative reward @ 5: 8585.000000\n",
    "    'cumulative_reward': re.compile(r'^cumulative reward @ (\\d+): ([\\d.]+)$'),\n",
    "\n",
    "    # Matches: clicks hr ndcg @ 10 : 0.398485, 0.241570\n",
    "    'clicks_hr_ndcg': re.compile(r'^clicks hr ndcg @ (\\d+) ?: ([\\d.]+), ([\\d.]+)$'),\n",
    "\n",
    "    # Matches: purchase hr and ndcg @10 : 0.535500, 0.337177\n",
    "    'purchase_hr_ndcg': re.compile(r'^purchase hr and ndcg @(\\d+) ?: ([\\d.]+), ([\\d.]+)$'),\n",
    "\n",
    "    # Matches: total diversity reward: 48740.039062\n",
    "    'total_diversity': re.compile(r'^total diversity reward: ([\\d.]+)$'),\n",
    "\n",
    "    # Matches: total novelty reward: 19004.000000\n",
    "    'total_novelty': re.compile(r'^total novelty reward: ([\\d.]+)$'),\n",
    "\n",
    "    # Matches: coverage of top 5 predictions: 0.379410\n",
    "    'coverage': re.compile(r'^coverage of top (\\d+) predictions: ([\\d.]+)$'),\n",
    "\n",
    "    # Matches: coverage on novel items of top 10 predictions: 0.385095\n",
    "    'novel_coverage': re.compile(r'^coverage on novel items of top (\\d+) predictions: ([\\d.]+)$'),\n",
    "\n",
    "    # Matches: average number of repetitions in top 20: 53.379500\n",
    "    'avg_repetitions': re.compile(r'^average number of repetitions in top (\\d+): ([\\d.]+)$'),\n",
    "}"
   ],
   "id": "9e20b8d702c7c44d",
   "outputs": [],
   "execution_count": 19
  },
  {
   "metadata": {
    "ExecuteTime": {
     "end_time": "2025-05-07T09:30:36.085063Z",
     "start_time": "2025-05-07T09:30:36.079630Z"
    }
   },
   "cell_type": "code",
   "source": [
    "def process_results(data_path, results_path, variant):\n",
    "    writer = SummaryWriter(log_dir=results_path)\n",
    "    with open(data_path, \"r\") as f:\n",
    "        lines = f.readlines()\n",
    "        my_model = \"any\"  \n",
    "        for line in lines:\n",
    "            match = re.search(r\"Step: (\\d+)\\.+\\s+Loss: ([\\d.]+)\", line)\n",
    "            if match:\n",
    "                step = int(match.group(1))\n",
    "                loss = float(match.group(2))\n",
    "                writer.add_scalar(f\"Loss/train\", loss, step)\n",
    "            if \"Model is\" in line:\n",
    "                my_model = \"any\"\n",
    "            if \"Evaluating Target Model\" in line:\n",
    "                my_model = \"target\"\n",
    "            if \"Evaluating Main Model\" in line:\n",
    "                my_model = \"main\"\n",
    "            if my_model == variant:\n",
    "                continue   \n",
    "            if \"TEST\" in line:\n",
    "                continue\n",
    "            if m := patterns['clicks_hr_ndcg'].match(line):\n",
    "                k, hr, ndcg = int(m.group(1)), float(m.group(2)), float(m.group(3))\n",
    "                writer.add_scalar(f\"HR_0/{k}\", hr,  step)\n",
    "                writer.add_scalar(f\"NDCG/{k}\", ndcg,  step)\n",
    "            #elif m := patterns['total_diversity'].match(line):\n",
    "            #    print(\"Total diversity reward:\", float(m.group(1)))\n",
    "            #elif m := patterns['total_novelty'].match(line):\n",
    "            #    print(\"Total novelty reward:\", float(m.group(1)))\n",
    "            elif m := patterns['coverage'].match(line):\n",
    "                k, val = int(m.group(1)), float(m.group(2))\n",
    "                writer.add_scalar(f\"COV/{k}\", val,  step)\n",
    "            #    print(\"Coverage of top {}: {}\".format(k, val))\n",
    "            elif m := patterns['novel_coverage'].match(line):\n",
    "                k, val = int(m.group(1)), float(m.group(2))\n",
    "                writer.add_scalar(f\"NOV/{k}\", val,  step)\n",
    "            #    print(\"Novel coverage of top {}: {}\".format(k, val))\n",
    "            elif m := patterns['avg_repetitions'].match(line):\n",
    "                k, val = int(m.group(1)), float(m.group(2))\n",
    "                writer.add_scalar(f\"REP/{k}\", val,  step)\n",
    "            #    print(\"Avg repetitions in top {}: {}\".format(k, val))          \n",
    "            #elif m := patterns['cumulative_reward'].match(line):\n",
    "            #    k, val = int(m.group(1)), float(m.group(2))\n",
    "            #    print(\"Reward@{} = {}\".format(k, val))\n",
    "            #elif m := patterns['purchase_hr_ndcg'].match(line):\n",
    "            #    k, hr, ndcg = int(m.group(1)), float(m.group(2)), float(m.group(3))\n",
    "            #    print(\"Purchase HR@{} = {}, NDCG@{} = {}\".format(k, hr, k, ndcg))\n",
    "            #elif m := patterns['total_diversity'].match(line):\n",
    "            #    print(\"Total diversity reward:\", float(m.group(1)))\n",
    "            #elif m := patterns['total_novelty'].match(line):\n",
    "            #    print(\"Total novelty reward:\", float(m.group(1)))\n",
    "    writer.flush()\n",
    "    writer.close()"
   ],
   "id": "67d0dae30de8b6eb",
   "outputs": [],
   "execution_count": 20
  },
  {
   "metadata": {
    "ExecuteTime": {
     "end_time": "2025-05-07T09:30:45.680695Z",
     "start_time": "2025-05-07T09:30:40.093294Z"
    }
   },
   "cell_type": "code",
   "source": [
    "for model in models:\n",
    "    for comb in combs:\n",
    "        for variant in model_stop:\n",
    "            for dats in datasets:\n",
    "                if \"rc15\" in dats:\n",
    "                    file_path = f'{div4rec_path}/{dats}/{model}_smorl/{model}_smorl1_acc{comb[0]}.0_div{comb[1]}.0_nov{comb[2]}.0_weighted_q_vals.txt'\n",
    "                else:\n",
    "                    file_path = f'{div4rec_path}/{dats}/{model}smorl/{model}_smorl1_acc{comb[0]}.0_div{comb[1]}.0_nov{comb[2]}.0_weighted_q_vals.txt'\n",
    "                results = f\"{results_dir}/{dats}/{model}/rl_{comb[0]}{comb[1]}{comb[2]}_{variant}\"\n",
    "                #print(f\"Processing: {model}-{comb}-{variant}\")\n",
    "                process_results(file_path, results, variant)\n",
    "\n",
    "models.append('nextitnet')\n",
    "for model in models:\n",
    "    for dats in datasets:\n",
    "        file_path = f'/home/marek/Kinit/MORSs/SMORL/div4rec/{dats}/{model}/{model}.txt'\n",
    "        results = f\"{results_dir}/{dats}/{model}/base\"   \n",
    "        process_results(file_path, results, \"This is not rl - not distinguished\")"
   ],
   "id": "d7a0dac6e0e4ac36",
   "outputs": [],
   "execution_count": 21
  },
  {
   "metadata": {
    "ExecuteTime": {
     "end_time": "2025-05-07T09:30:54.150852Z",
     "start_time": "2025-05-07T09:30:53.856339Z"
    }
   },
   "cell_type": "code",
   "source": [
    "model = \"nextitnet\"\n",
    "for variant in model_stop:\n",
    "    for dats in datasets:\n",
    "        if \"rc15\" in dats:\n",
    "            file_path = f'{div4rec_path}/{dats}/{model}_smorl/{model}_smorl1_acc1.0_div1.0_nov1.0.txt'\n",
    "        else:\n",
    "            file_path = f'{div4rec_path}/{dats}/{model}smorl/{model}_smorl1_acc1.0_div1.0_nov1.0.txt'\n",
    "        results = f\"{results_dir}/{dats}/{model}/rl_111_{variant}\"\n",
    "        #print(f\"Processing: {model}-{comb}-{variant}\")\n",
    "        process_results(file_path, results, variant)"
   ],
   "id": "49162cbcd9440e12",
   "outputs": [],
   "execution_count": 22
  }
 ],
 "metadata": {
  "kernelspec": {
   "display_name": "Python 3",
   "language": "python",
   "name": "python3"
  },
  "language_info": {
   "codemirror_mode": {
    "name": "ipython",
    "version": 2
   },
   "file_extension": ".py",
   "mimetype": "text/x-python",
   "name": "python",
   "nbconvert_exporter": "python",
   "pygments_lexer": "ipython2",
   "version": "2.7.6"
  }
 },
 "nbformat": 4,
 "nbformat_minor": 5
}
